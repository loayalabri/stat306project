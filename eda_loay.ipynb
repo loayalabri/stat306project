{
 "cells": [
  {
   "cell_type": "code",
   "execution_count": 55,
   "metadata": {
    "vscode": {
     "languageId": "r"
    }
   },
   "outputs": [],
   "source": [
    "library(tidyverse)\n",
    "library(tidymodels)\n",
    "library(dplyr)\n",
    "library(cowplot)\n",
    "library(ggplot2)\n",
    "library(broom)"
   ]
  },
  {
   "cell_type": "code",
   "execution_count": 84,
   "metadata": {
    "vscode": {
     "languageId": "r"
    }
   },
   "outputs": [
    {
     "data": {
      "text/html": [
       "<table class=\"dataframe\">\n",
       "<caption>A data.frame: 6 × 16</caption>\n",
       "<thead>\n",
       "\t<tr><th></th><th scope=col>host_response_time</th><th scope=col>host_response_rate</th><th scope=col>host_is_superhost</th><th scope=col>neighbourhood_group_cleansed</th><th scope=col>latitude</th><th scope=col>longitude</th><th scope=col>room_type</th><th scope=col>bathrooms</th><th scope=col>bedrooms</th><th scope=col>price</th><th scope=col>minimum_nights</th><th scope=col>availability_365</th><th scope=col>number_of_reviews</th><th scope=col>review_scores_rating</th><th scope=col>instant_bookable</th><th scope=col>beds_per_accomodate</th></tr>\n",
       "\t<tr><th></th><th scope=col>&lt;fct&gt;</th><th scope=col>&lt;dbl&gt;</th><th scope=col>&lt;fct&gt;</th><th scope=col>&lt;fct&gt;</th><th scope=col>&lt;dbl&gt;</th><th scope=col>&lt;dbl&gt;</th><th scope=col>&lt;fct&gt;</th><th scope=col>&lt;dbl&gt;</th><th scope=col>&lt;int&gt;</th><th scope=col>&lt;int&gt;</th><th scope=col>&lt;int&gt;</th><th scope=col>&lt;int&gt;</th><th scope=col>&lt;int&gt;</th><th scope=col>&lt;dbl&gt;</th><th scope=col>&lt;fct&gt;</th><th scope=col>&lt;dbl&gt;</th></tr>\n",
       "</thead>\n",
       "<tbody>\n",
       "\t<tr><th scope=row>1</th><td>a few days or more</td><td>0.2</td><td>f</td><td>Other Cities       </td><td>34.10933</td><td>-118.0731</td><td>Private room   </td><td>1.0</td><td>1</td><td>  49</td><td> 1</td><td>364</td><td>  1</td><td>3.00</td><td>f</td><td>2.00</td></tr>\n",
       "\t<tr><th scope=row>2</th><td>within an hour    </td><td>1.0</td><td>t</td><td>Other Cities       </td><td>34.01559</td><td>-118.4941</td><td>Entire home/apt</td><td>1.0</td><td>0</td><td> 231</td><td> 5</td><td>193</td><td> 44</td><td>4.93</td><td>t</td><td>2.00</td></tr>\n",
       "\t<tr><th scope=row>3</th><td>within a few hours</td><td>1.0</td><td>f</td><td>City of Los Angeles</td><td>33.99017</td><td>-118.4225</td><td>Entire home/apt</td><td>1.0</td><td>2</td><td> 110</td><td>30</td><td>117</td><td>368</td><td>4.61</td><td>f</td><td>1.40</td></tr>\n",
       "\t<tr><th scope=row>4</th><td>within an hour    </td><td>1.0</td><td>t</td><td>City of Los Angeles</td><td>33.98258</td><td>-118.4643</td><td>Entire home/apt</td><td>3.5</td><td>4</td><td>1179</td><td> 2</td><td>356</td><td> 35</td><td>4.97</td><td>f</td><td>1.50</td></tr>\n",
       "\t<tr><th scope=row>5</th><td>within an hour    </td><td>1.0</td><td>t</td><td>City of Los Angeles</td><td>34.08817</td><td>-118.3655</td><td>Entire home/apt</td><td>4.5</td><td>4</td><td>1244</td><td> 3</td><td>141</td><td> 10</td><td>5.00</td><td>f</td><td>2.00</td></tr>\n",
       "\t<tr><th scope=row>6</th><td>within an hour    </td><td>1.0</td><td>t</td><td>Other Cities       </td><td>34.09130</td><td>-118.3519</td><td>Entire home/apt</td><td>1.0</td><td>2</td><td> 213</td><td> 2</td><td>244</td><td> 23</td><td>4.74</td><td>t</td><td>1.67</td></tr>\n",
       "</tbody>\n",
       "</table>\n"
      ],
      "text/latex": [
       "A data.frame: 6 × 16\n",
       "\\begin{tabular}{r|llllllllllllllll}\n",
       "  & host\\_response\\_time & host\\_response\\_rate & host\\_is\\_superhost & neighbourhood\\_group\\_cleansed & latitude & longitude & room\\_type & bathrooms & bedrooms & price & minimum\\_nights & availability\\_365 & number\\_of\\_reviews & review\\_scores\\_rating & instant\\_bookable & beds\\_per\\_accomodate\\\\\n",
       "  & <fct> & <dbl> & <fct> & <fct> & <dbl> & <dbl> & <fct> & <dbl> & <int> & <int> & <int> & <int> & <int> & <dbl> & <fct> & <dbl>\\\\\n",
       "\\hline\n",
       "\t1 & a few days or more & 0.2 & f & Other Cities        & 34.10933 & -118.0731 & Private room    & 1.0 & 1 &   49 &  1 & 364 &   1 & 3.00 & f & 2.00\\\\\n",
       "\t2 & within an hour     & 1.0 & t & Other Cities        & 34.01559 & -118.4941 & Entire home/apt & 1.0 & 0 &  231 &  5 & 193 &  44 & 4.93 & t & 2.00\\\\\n",
       "\t3 & within a few hours & 1.0 & f & City of Los Angeles & 33.99017 & -118.4225 & Entire home/apt & 1.0 & 2 &  110 & 30 & 117 & 368 & 4.61 & f & 1.40\\\\\n",
       "\t4 & within an hour     & 1.0 & t & City of Los Angeles & 33.98258 & -118.4643 & Entire home/apt & 3.5 & 4 & 1179 &  2 & 356 &  35 & 4.97 & f & 1.50\\\\\n",
       "\t5 & within an hour     & 1.0 & t & City of Los Angeles & 34.08817 & -118.3655 & Entire home/apt & 4.5 & 4 & 1244 &  3 & 141 &  10 & 5.00 & f & 2.00\\\\\n",
       "\t6 & within an hour     & 1.0 & t & Other Cities        & 34.09130 & -118.3519 & Entire home/apt & 1.0 & 2 &  213 &  2 & 244 &  23 & 4.74 & t & 1.67\\\\\n",
       "\\end{tabular}\n"
      ],
      "text/markdown": [
       "\n",
       "A data.frame: 6 × 16\n",
       "\n",
       "| <!--/--> | host_response_time &lt;fct&gt; | host_response_rate &lt;dbl&gt; | host_is_superhost &lt;fct&gt; | neighbourhood_group_cleansed &lt;fct&gt; | latitude &lt;dbl&gt; | longitude &lt;dbl&gt; | room_type &lt;fct&gt; | bathrooms &lt;dbl&gt; | bedrooms &lt;int&gt; | price &lt;int&gt; | minimum_nights &lt;int&gt; | availability_365 &lt;int&gt; | number_of_reviews &lt;int&gt; | review_scores_rating &lt;dbl&gt; | instant_bookable &lt;fct&gt; | beds_per_accomodate &lt;dbl&gt; |\n",
       "|---|---|---|---|---|---|---|---|---|---|---|---|---|---|---|---|---|\n",
       "| 1 | a few days or more | 0.2 | f | Other Cities        | 34.10933 | -118.0731 | Private room    | 1.0 | 1 |   49 |  1 | 364 |   1 | 3.00 | f | 2.00 |\n",
       "| 2 | within an hour     | 1.0 | t | Other Cities        | 34.01559 | -118.4941 | Entire home/apt | 1.0 | 0 |  231 |  5 | 193 |  44 | 4.93 | t | 2.00 |\n",
       "| 3 | within a few hours | 1.0 | f | City of Los Angeles | 33.99017 | -118.4225 | Entire home/apt | 1.0 | 2 |  110 | 30 | 117 | 368 | 4.61 | f | 1.40 |\n",
       "| 4 | within an hour     | 1.0 | t | City of Los Angeles | 33.98258 | -118.4643 | Entire home/apt | 3.5 | 4 | 1179 |  2 | 356 |  35 | 4.97 | f | 1.50 |\n",
       "| 5 | within an hour     | 1.0 | t | City of Los Angeles | 34.08817 | -118.3655 | Entire home/apt | 4.5 | 4 | 1244 |  3 | 141 |  10 | 5.00 | f | 2.00 |\n",
       "| 6 | within an hour     | 1.0 | t | Other Cities        | 34.09130 | -118.3519 | Entire home/apt | 1.0 | 2 |  213 |  2 | 244 |  23 | 4.74 | t | 1.67 |\n",
       "\n"
      ],
      "text/plain": [
       "  host_response_time host_response_rate host_is_superhost\n",
       "1 a few days or more 0.2                f                \n",
       "2 within an hour     1.0                t                \n",
       "3 within a few hours 1.0                f                \n",
       "4 within an hour     1.0                t                \n",
       "5 within an hour     1.0                t                \n",
       "6 within an hour     1.0                t                \n",
       "  neighbourhood_group_cleansed latitude longitude room_type       bathrooms\n",
       "1 Other Cities                 34.10933 -118.0731 Private room    1.0      \n",
       "2 Other Cities                 34.01559 -118.4941 Entire home/apt 1.0      \n",
       "3 City of Los Angeles          33.99017 -118.4225 Entire home/apt 1.0      \n",
       "4 City of Los Angeles          33.98258 -118.4643 Entire home/apt 3.5      \n",
       "5 City of Los Angeles          34.08817 -118.3655 Entire home/apt 4.5      \n",
       "6 Other Cities                 34.09130 -118.3519 Entire home/apt 1.0      \n",
       "  bedrooms price minimum_nights availability_365 number_of_reviews\n",
       "1 1          49   1             364                1              \n",
       "2 0         231   5             193               44              \n",
       "3 2         110  30             117              368              \n",
       "4 4        1179   2             356               35              \n",
       "5 4        1244   3             141               10              \n",
       "6 2         213   2             244               23              \n",
       "  review_scores_rating instant_bookable beds_per_accomodate\n",
       "1 3.00                 f                2.00               \n",
       "2 4.93                 t                2.00               \n",
       "3 4.61                 f                1.40               \n",
       "4 4.97                 f                1.50               \n",
       "5 5.00                 f                2.00               \n",
       "6 4.74                 t                1.67               "
      ]
     },
     "metadata": {},
     "output_type": "display_data"
    }
   ],
   "source": [
    "data <- read.csv(\"listings.csv\", header = TRUE) %>%\n",
    "    select(-id, -name, -host_id, -host_name, -host_since, -neighbourhood_cleansed, -property_type, -license)\n",
    "data <- na.omit(data)\n",
    "data[\"beds_per_accomodate\"] = round(data$accommodates / data$beds, 2)\n",
    "data <- data %>%\n",
    "    select(-beds, -accommodates)\n",
    "data <- data %>%\n",
    "    filter(host_response_time != 'N/A')\n",
    "\n",
    "data <- data %>%\n",
    "    mutate(host_response_time = as.factor(host_response_time) ,\n",
    "           host_response_rate = as.numeric(host_response_rate), \n",
    "           host_is_superhost = as.factor(host_is_superhost), \n",
    "           neighbourhood_group_cleansed = as.factor(neighbourhood_group_cleansed), \n",
    "           room_type = as.factor(room_type),\n",
    "           instant_bookable = as.factor(instant_bookable))\n",
    "\n",
    "head(data)"
   ]
  },
  {
   "cell_type": "markdown",
   "metadata": {},
   "source": []
  },
  {
   "cell_type": "code",
   "execution_count": null,
   "metadata": {
    "vscode": {
     "languageId": "r"
    }
   },
   "outputs": [
    {
     "data": {
      "text/html": [
       "<style>\n",
       ".dl-inline {width: auto; margin:0; padding: 0}\n",
       ".dl-inline>dt, .dl-inline>dd {float: none; width: auto; display: inline-block}\n",
       ".dl-inline>dt::after {content: \":\\0020\"; padding-right: .5ex}\n",
       ".dl-inline>dt:not(:first-of-type) {padding-left: .5ex}\n",
       "</style><dl class=dl-inline><dt>host_response_time</dt><dd>0</dd><dt>host_response_rate</dt><dd>0</dd><dt>host_is_superhost</dt><dd>0</dd><dt>neighbourhood_group_cleansed</dt><dd>0</dd><dt>latitude</dt><dd>0</dd><dt>longitude</dt><dd>0</dd><dt>room_type</dt><dd>0</dd><dt>bathrooms</dt><dd>0</dd><dt>bedrooms</dt><dd>0</dd><dt>price</dt><dd>0</dd><dt>minimum_nights</dt><dd>0</dd><dt>availability_365</dt><dd>0</dd><dt>number_of_reviews</dt><dd>0</dd><dt>review_scores_rating</dt><dd>0</dd><dt>instant_bookable</dt><dd>0</dd><dt>beds_per_accomodate</dt><dd>0</dd></dl>\n"
      ],
      "text/latex": [
       "\\begin{description*}\n",
       "\\item[host\\textbackslash{}\\_response\\textbackslash{}\\_time] 0\n",
       "\\item[host\\textbackslash{}\\_response\\textbackslash{}\\_rate] 0\n",
       "\\item[host\\textbackslash{}\\_is\\textbackslash{}\\_superhost] 0\n",
       "\\item[neighbourhood\\textbackslash{}\\_group\\textbackslash{}\\_cleansed] 0\n",
       "\\item[latitude] 0\n",
       "\\item[longitude] 0\n",
       "\\item[room\\textbackslash{}\\_type] 0\n",
       "\\item[bathrooms] 0\n",
       "\\item[bedrooms] 0\n",
       "\\item[price] 0\n",
       "\\item[minimum\\textbackslash{}\\_nights] 0\n",
       "\\item[availability\\textbackslash{}\\_365] 0\n",
       "\\item[number\\textbackslash{}\\_of\\textbackslash{}\\_reviews] 0\n",
       "\\item[review\\textbackslash{}\\_scores\\textbackslash{}\\_rating] 0\n",
       "\\item[instant\\textbackslash{}\\_bookable] 0\n",
       "\\item[beds\\textbackslash{}\\_per\\textbackslash{}\\_accomodate] 0\n",
       "\\end{description*}\n"
      ],
      "text/markdown": [
       "host_response_time\n",
       ":   0host_response_rate\n",
       ":   0host_is_superhost\n",
       ":   0neighbourhood_group_cleansed\n",
       ":   0latitude\n",
       ":   0longitude\n",
       ":   0room_type\n",
       ":   0bathrooms\n",
       ":   0bedrooms\n",
       ":   0price\n",
       ":   0minimum_nights\n",
       ":   0availability_365\n",
       ":   0number_of_reviews\n",
       ":   0review_scores_rating\n",
       ":   0instant_bookable\n",
       ":   0beds_per_accomodate\n",
       ":   0\n",
       "\n"
      ],
      "text/plain": [
       "          host_response_time           host_response_rate \n",
       "                           0                            0 \n",
       "           host_is_superhost neighbourhood_group_cleansed \n",
       "                           0                            0 \n",
       "                    latitude                    longitude \n",
       "                           0                            0 \n",
       "                   room_type                    bathrooms \n",
       "                           0                            0 \n",
       "                    bedrooms                        price \n",
       "                           0                            0 \n",
       "              minimum_nights             availability_365 \n",
       "                           0                            0 \n",
       "           number_of_reviews         review_scores_rating \n",
       "                           0                            0 \n",
       "            instant_bookable          beds_per_accomodate \n",
       "                           0                            0 "
      ]
     },
     "metadata": {},
     "output_type": "display_data"
    }
   ],
   "source": [
    "colSums(is.na(data))"
   ]
  },
  {
   "cell_type": "code",
   "execution_count": 57,
   "metadata": {
    "vscode": {
     "languageId": "r"
    }
   },
   "outputs": [
    {
     "data": {
      "text/html": [
       "<table class=\"dataframe\">\n",
       "<caption>A data.frame: 4 × 3</caption>\n",
       "<thead>\n",
       "\t<tr><th scope=col>host_response_time</th><th scope=col>n</th><th scope=col>prop</th></tr>\n",
       "\t<tr><th scope=col>&lt;chr&gt;</th><th scope=col>&lt;int&gt;</th><th scope=col>&lt;dbl&gt;</th></tr>\n",
       "</thead>\n",
       "<tbody>\n",
       "\t<tr><td>a few days or more</td><td>  457</td><td>0.01767960</td></tr>\n",
       "\t<tr><td>within a day      </td><td> 1181</td><td>0.04568842</td></tr>\n",
       "\t<tr><td>within a few hours</td><td> 3362</td><td>0.13006306</td></tr>\n",
       "\t<tr><td>within an hour    </td><td>20849</td><td>0.80656892</td></tr>\n",
       "</tbody>\n",
       "</table>\n"
      ],
      "text/latex": [
       "A data.frame: 4 × 3\n",
       "\\begin{tabular}{lll}\n",
       " host\\_response\\_time & n & prop\\\\\n",
       " <chr> & <int> & <dbl>\\\\\n",
       "\\hline\n",
       "\t a few days or more &   457 & 0.01767960\\\\\n",
       "\t within a day       &  1181 & 0.04568842\\\\\n",
       "\t within a few hours &  3362 & 0.13006306\\\\\n",
       "\t within an hour     & 20849 & 0.80656892\\\\\n",
       "\\end{tabular}\n"
      ],
      "text/markdown": [
       "\n",
       "A data.frame: 4 × 3\n",
       "\n",
       "| host_response_time &lt;chr&gt; | n &lt;int&gt; | prop &lt;dbl&gt; |\n",
       "|---|---|---|\n",
       "| a few days or more |   457 | 0.01767960 |\n",
       "| within a day       |  1181 | 0.04568842 |\n",
       "| within a few hours |  3362 | 0.13006306 |\n",
       "| within an hour     | 20849 | 0.80656892 |\n",
       "\n"
      ],
      "text/plain": [
       "  host_response_time n     prop      \n",
       "1 a few days or more   457 0.01767960\n",
       "2 within a day        1181 0.04568842\n",
       "3 within a few hours  3362 0.13006306\n",
       "4 within an hour     20849 0.80656892"
      ]
     },
     "metadata": {},
     "output_type": "display_data"
    }
   ],
   "source": [
    "\n",
    "data %>% count(host_response_time) %>% mutate(prop = n / nrow(data))"
   ]
  },
  {
   "cell_type": "code",
   "execution_count": 58,
   "metadata": {
    "vscode": {
     "languageId": "r"
    }
   },
   "outputs": [
    {
     "name": "stdout",
     "output_type": "stream",
     "text": [
      "'data.frame':\t28045 obs. of  16 variables:\n",
      " $ host_response_time          : chr  \"a few days or more\" \"within an hour\" \"within a few hours\" \"within an hour\" ...\n",
      " $ host_response_rate          : chr  \"0.2\" \"1\" \"1\" \"1\" ...\n",
      " $ host_is_superhost           : chr  \"f\" \"t\" \"f\" \"t\" ...\n",
      " $ neighbourhood_group_cleansed: chr  \"Other Cities\" \"Other Cities\" \"City of Los Angeles\" \"City of Los Angeles\" ...\n",
      " $ latitude                    : num  34.1 34 34 34 34.1 ...\n",
      " $ longitude                   : num  -118 -118 -118 -118 -118 ...\n",
      " $ room_type                   : chr  \"Private room\" \"Entire home/apt\" \"Entire home/apt\" \"Entire home/apt\" ...\n",
      " $ bathrooms                   : num  1 1 1 3.5 4.5 1 1 1 1 2 ...\n",
      " $ bedrooms                    : int  1 0 2 4 4 2 2 1 1 2 ...\n",
      " $ price                       : int  49 231 110 1179 1244 213 95 298 110 282 ...\n",
      " $ minimum_nights              : int  1 5 30 2 3 2 30 3 4 2 ...\n",
      " $ availability_365            : int  364 193 117 356 141 244 38 244 356 313 ...\n",
      " $ number_of_reviews           : int  1 44 368 35 10 23 2 59 285 49 ...\n",
      " $ review_scores_rating        : num  3 4.93 4.61 4.97 5 4.74 4.5 4.95 4.64 4.61 ...\n",
      " $ instant_bookable            : chr  \"f\" \"t\" \"f\" \"f\" ...\n",
      " $ beds_per_accomodate         : num  2 2 1.4 1.5 2 ...\n",
      " - attr(*, \"na.action\")= 'omit' Named int [1:17488] 1 2 3 6 10 11 15 17 20 21 ...\n",
      "  ..- attr(*, \"names\")= chr [1:17488] \"1\" \"2\" \"3\" \"6\" ...\n"
     ]
    }
   ],
   "source": [
    "str(airpnp)"
   ]
  },
  {
   "cell_type": "code",
   "execution_count": null,
   "metadata": {
    "vscode": {
     "languageId": "r"
    }
   },
   "outputs": [
    {
     "data": {
      "text/html": [
       "<table class=\"dataframe\">\n",
       "<caption>A data.frame: 6 × 16</caption>\n",
       "<thead>\n",
       "\t<tr><th></th><th scope=col>host_response_time</th><th scope=col>host_response_rate</th><th scope=col>host_is_superhost</th><th scope=col>neighbourhood_group_cleansed</th><th scope=col>latitude</th><th scope=col>longitude</th><th scope=col>room_type</th><th scope=col>bathrooms</th><th scope=col>bedrooms</th><th scope=col>price</th><th scope=col>minimum_nights</th><th scope=col>availability_365</th><th scope=col>number_of_reviews</th><th scope=col>review_scores_rating</th><th scope=col>instant_bookable</th><th scope=col>beds_per_accomodate</th></tr>\n",
       "\t<tr><th></th><th scope=col>&lt;fct&gt;</th><th scope=col>&lt;dbl&gt;</th><th scope=col>&lt;fct&gt;</th><th scope=col>&lt;fct&gt;</th><th scope=col>&lt;dbl&gt;</th><th scope=col>&lt;dbl&gt;</th><th scope=col>&lt;fct&gt;</th><th scope=col>&lt;dbl&gt;</th><th scope=col>&lt;int&gt;</th><th scope=col>&lt;int&gt;</th><th scope=col>&lt;int&gt;</th><th scope=col>&lt;int&gt;</th><th scope=col>&lt;int&gt;</th><th scope=col>&lt;dbl&gt;</th><th scope=col>&lt;fct&gt;</th><th scope=col>&lt;dbl&gt;</th></tr>\n",
       "</thead>\n",
       "<tbody>\n",
       "\t<tr><th scope=row>1</th><td>a few days or more</td><td> 7</td><td>f</td><td>Other Cities       </td><td>34.10933</td><td>-118.0731</td><td>Private room   </td><td>1.0</td><td>1</td><td>  49</td><td> 1</td><td>364</td><td>  1</td><td>3.00</td><td>f</td><td>2.000000</td></tr>\n",
       "\t<tr><th scope=row>2</th><td>within an hour    </td><td>62</td><td>t</td><td>Other Cities       </td><td>34.01559</td><td>-118.4941</td><td>Entire home/apt</td><td>1.0</td><td>0</td><td> 231</td><td> 5</td><td>193</td><td> 44</td><td>4.93</td><td>t</td><td>2.000000</td></tr>\n",
       "\t<tr><th scope=row>3</th><td>within a few hours</td><td>62</td><td>f</td><td>City of Los Angeles</td><td>33.99017</td><td>-118.4225</td><td>Entire home/apt</td><td>1.0</td><td>2</td><td> 110</td><td>30</td><td>117</td><td>368</td><td>4.61</td><td>f</td><td>1.400000</td></tr>\n",
       "\t<tr><th scope=row>4</th><td>within an hour    </td><td>62</td><td>t</td><td>City of Los Angeles</td><td>33.98258</td><td>-118.4643</td><td>Entire home/apt</td><td>3.5</td><td>4</td><td>1179</td><td> 2</td><td>356</td><td> 35</td><td>4.97</td><td>f</td><td>1.500000</td></tr>\n",
       "\t<tr><th scope=row>5</th><td>within an hour    </td><td>62</td><td>t</td><td>City of Los Angeles</td><td>34.08817</td><td>-118.3655</td><td>Entire home/apt</td><td>4.5</td><td>4</td><td>1244</td><td> 3</td><td>141</td><td> 10</td><td>5.00</td><td>f</td><td>2.000000</td></tr>\n",
       "\t<tr><th scope=row>6</th><td>within an hour    </td><td>62</td><td>t</td><td>Other Cities       </td><td>34.09130</td><td>-118.3519</td><td>Entire home/apt</td><td>1.0</td><td>2</td><td> 213</td><td> 2</td><td>244</td><td> 23</td><td>4.74</td><td>t</td><td>1.666667</td></tr>\n",
       "</tbody>\n",
       "</table>\n"
      ],
      "text/latex": [
       "A data.frame: 6 × 16\n",
       "\\begin{tabular}{r|llllllllllllllll}\n",
       "  & host\\_response\\_time & host\\_response\\_rate & host\\_is\\_superhost & neighbourhood\\_group\\_cleansed & latitude & longitude & room\\_type & bathrooms & bedrooms & price & minimum\\_nights & availability\\_365 & number\\_of\\_reviews & review\\_scores\\_rating & instant\\_bookable & beds\\_per\\_accomodate\\\\\n",
       "  & <fct> & <dbl> & <fct> & <fct> & <dbl> & <dbl> & <fct> & <dbl> & <int> & <int> & <int> & <int> & <int> & <dbl> & <fct> & <dbl>\\\\\n",
       "\\hline\n",
       "\t1 & a few days or more &  7 & f & Other Cities        & 34.10933 & -118.0731 & Private room    & 1.0 & 1 &   49 &  1 & 364 &   1 & 3.00 & f & 2.000000\\\\\n",
       "\t2 & within an hour     & 62 & t & Other Cities        & 34.01559 & -118.4941 & Entire home/apt & 1.0 & 0 &  231 &  5 & 193 &  44 & 4.93 & t & 2.000000\\\\\n",
       "\t3 & within a few hours & 62 & f & City of Los Angeles & 33.99017 & -118.4225 & Entire home/apt & 1.0 & 2 &  110 & 30 & 117 & 368 & 4.61 & f & 1.400000\\\\\n",
       "\t4 & within an hour     & 62 & t & City of Los Angeles & 33.98258 & -118.4643 & Entire home/apt & 3.5 & 4 & 1179 &  2 & 356 &  35 & 4.97 & f & 1.500000\\\\\n",
       "\t5 & within an hour     & 62 & t & City of Los Angeles & 34.08817 & -118.3655 & Entire home/apt & 4.5 & 4 & 1244 &  3 & 141 &  10 & 5.00 & f & 2.000000\\\\\n",
       "\t6 & within an hour     & 62 & t & Other Cities        & 34.09130 & -118.3519 & Entire home/apt & 1.0 & 2 &  213 &  2 & 244 &  23 & 4.74 & t & 1.666667\\\\\n",
       "\\end{tabular}\n"
      ],
      "text/markdown": [
       "\n",
       "A data.frame: 6 × 16\n",
       "\n",
       "| <!--/--> | host_response_time &lt;fct&gt; | host_response_rate &lt;dbl&gt; | host_is_superhost &lt;fct&gt; | neighbourhood_group_cleansed &lt;fct&gt; | latitude &lt;dbl&gt; | longitude &lt;dbl&gt; | room_type &lt;fct&gt; | bathrooms &lt;dbl&gt; | bedrooms &lt;int&gt; | price &lt;int&gt; | minimum_nights &lt;int&gt; | availability_365 &lt;int&gt; | number_of_reviews &lt;int&gt; | review_scores_rating &lt;dbl&gt; | instant_bookable &lt;fct&gt; | beds_per_accomodate &lt;dbl&gt; |\n",
       "|---|---|---|---|---|---|---|---|---|---|---|---|---|---|---|---|---|\n",
       "| 1 | a few days or more |  7 | f | Other Cities        | 34.10933 | -118.0731 | Private room    | 1.0 | 1 |   49 |  1 | 364 |   1 | 3.00 | f | 2.000000 |\n",
       "| 2 | within an hour     | 62 | t | Other Cities        | 34.01559 | -118.4941 | Entire home/apt | 1.0 | 0 |  231 |  5 | 193 |  44 | 4.93 | t | 2.000000 |\n",
       "| 3 | within a few hours | 62 | f | City of Los Angeles | 33.99017 | -118.4225 | Entire home/apt | 1.0 | 2 |  110 | 30 | 117 | 368 | 4.61 | f | 1.400000 |\n",
       "| 4 | within an hour     | 62 | t | City of Los Angeles | 33.98258 | -118.4643 | Entire home/apt | 3.5 | 4 | 1179 |  2 | 356 |  35 | 4.97 | f | 1.500000 |\n",
       "| 5 | within an hour     | 62 | t | City of Los Angeles | 34.08817 | -118.3655 | Entire home/apt | 4.5 | 4 | 1244 |  3 | 141 |  10 | 5.00 | f | 2.000000 |\n",
       "| 6 | within an hour     | 62 | t | Other Cities        | 34.09130 | -118.3519 | Entire home/apt | 1.0 | 2 |  213 |  2 | 244 |  23 | 4.74 | t | 1.666667 |\n",
       "\n"
      ],
      "text/plain": [
       "  host_response_time host_response_rate host_is_superhost\n",
       "1 a few days or more  7                 f                \n",
       "2 within an hour     62                 t                \n",
       "3 within a few hours 62                 f                \n",
       "4 within an hour     62                 t                \n",
       "5 within an hour     62                 t                \n",
       "6 within an hour     62                 t                \n",
       "  neighbourhood_group_cleansed latitude longitude room_type       bathrooms\n",
       "1 Other Cities                 34.10933 -118.0731 Private room    1.0      \n",
       "2 Other Cities                 34.01559 -118.4941 Entire home/apt 1.0      \n",
       "3 City of Los Angeles          33.99017 -118.4225 Entire home/apt 1.0      \n",
       "4 City of Los Angeles          33.98258 -118.4643 Entire home/apt 3.5      \n",
       "5 City of Los Angeles          34.08817 -118.3655 Entire home/apt 4.5      \n",
       "6 Other Cities                 34.09130 -118.3519 Entire home/apt 1.0      \n",
       "  bedrooms price minimum_nights availability_365 number_of_reviews\n",
       "1 1          49   1             364                1              \n",
       "2 0         231   5             193               44              \n",
       "3 2         110  30             117              368              \n",
       "4 4        1179   2             356               35              \n",
       "5 4        1244   3             141               10              \n",
       "6 2         213   2             244               23              \n",
       "  review_scores_rating instant_bookable beds_per_accomodate\n",
       "1 3.00                 f                2.000000           \n",
       "2 4.93                 t                2.000000           \n",
       "3 4.61                 f                1.400000           \n",
       "4 4.97                 f                1.500000           \n",
       "5 5.00                 f                2.000000           \n",
       "6 4.74                 t                1.666667           "
      ]
     },
     "metadata": {},
     "output_type": "display_data"
    }
   ],
   "source": [
    "\n",
    "head(data)"
   ]
  },
  {
   "cell_type": "code",
   "execution_count": 76,
   "metadata": {
    "vscode": {
     "languageId": "r"
    }
   },
   "outputs": [
    {
     "data": {
      "text/html": [
       "<strong>pdf:</strong> 2"
      ],
      "text/latex": [
       "\\textbf{pdf:} 2"
      ],
      "text/markdown": [
       "**pdf:** 2"
      ],
      "text/plain": [
       "pdf \n",
       "  2 "
      ]
     },
     "metadata": {},
     "output_type": "display_data"
    }
   ],
   "source": [
    "png(\"price_hist.png\",width = 2000, height = 2000, res = 300)\n",
    "hist(data$price, xlim = c(0, 5000), main = \"Distribution of Price\", xlab = \"Price\", ylab = \"Count\")\n",
    "dev.off()"
   ]
  },
  {
   "cell_type": "markdown",
   "metadata": {},
   "source": [
    "The distribution of the price column is right-skewed, thus we will try to apply a log transformation to the price column."
   ]
  },
  {
   "cell_type": "code",
   "execution_count": 77,
   "metadata": {
    "vscode": {
     "languageId": "r"
    }
   },
   "outputs": [
    {
     "data": {
      "text/html": [
       "<strong>pdf:</strong> 2"
      ],
      "text/latex": [
       "\\textbf{pdf:} 2"
      ],
      "text/markdown": [
       "**pdf:** 2"
      ],
      "text/plain": [
       "pdf \n",
       "  2 "
      ]
     },
     "metadata": {},
     "output_type": "display_data"
    }
   ],
   "source": [
    "png(\"log_price_hist.png\",width = 2000, height = 2000, res = 300)\n",
    "hist(log(data$price), main = \"Distribution of the log price\", xlab = \"Log of Price\")\n",
    "dev.off()"
   ]
  },
  {
   "cell_type": "code",
   "execution_count": null,
   "metadata": {
    "vscode": {
     "languageId": "r"
    }
   },
   "outputs": [
    {
     "name": "stderr",
     "output_type": "stream",
     "text": [
      "Warning message:\n",
      "“\u001b[1m\u001b[22mRemoved 633 rows containing non-finite outside the scale range\n",
      "(`stat_boxplot()`).”\n"
     ]
    },
    {
     "data": {
      "image/png": "[encoded data removed]",
      "text/plain": [
       "plot without title"
      ]
     },
     "metadata": {
      "image/png": {
       "height": 420,
       "width": 420
      }
     },
     "output_type": "display_data"
    }
   ],
   "source": [
    "neighborhood_boxplot <- data %>%\n",
    "    ggplot(aes(x=neighbourhood_group_cleansed,y = price, fill=neighbourhood_group_cleansed)) +\n",
    "    geom_boxplot() +\n",
    "    ylim(c(0, 1000)) +\n",
    "    xlab(\"neighborhood\") +\n",
    "    ylab(\"price\")\n",
    "neighborhood_boxplot"
   ]
  },
  {
   "cell_type": "code",
   "execution_count": null,
   "metadata": {
    "vscode": {
     "languageId": "r"
    }
   },
   "outputs": [],
   "source": []
  }
 ],
 "metadata": {
  "kernelspec": {
   "display_name": "R",
   "language": "R",
   "name": "ir"
  },
  "language_info": {
   "codemirror_mode": "r",
   "file_extension": ".r",
   "mimetype": "text/x-r-source",
   "name": "R",
   "pygments_lexer": "r",
   "version": "4.3.2"
  }
 },
 "nbformat": 4,
 "nbformat_minor": 2
}
