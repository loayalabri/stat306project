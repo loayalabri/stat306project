{
 "cells": [
  {
   "cell_type": "code",
   "execution_count": 45,
   "metadata": {
    "vscode": {
     "languageId": "r"
    }
   },
   "outputs": [],
   "source": [
    "library(tidyverse)\n",
    "library(tidymodels)\n",
    "library(dplyr)\n",
    "library(cowplot)\n",
    "library(ggplot2)\n",
    "library(broom)"
   ]
  },
  {
   "cell_type": "code",
   "execution_count": 53,
   "metadata": {
    "vscode": {
     "languageId": "r"
    }
   },
   "outputs": [
    {
     "data": {
      "text/html": [
       "<table class=\"dataframe\">\n",
       "<caption>A data.frame: 6 × 16</caption>\n",
       "<thead>\n",
       "\t<tr><th></th><th scope=col>host_response_time</th><th scope=col>host_response_rate</th><th scope=col>host_is_superhost</th><th scope=col>neighbourhood_group_cleansed</th><th scope=col>latitude</th><th scope=col>longitude</th><th scope=col>room_type</th><th scope=col>bathrooms</th><th scope=col>bedrooms</th><th scope=col>price</th><th scope=col>minimum_nights</th><th scope=col>availability_365</th><th scope=col>number_of_reviews</th><th scope=col>review_scores_rating</th><th scope=col>instant_bookable</th><th scope=col>beds_per_accomodate</th></tr>\n",
       "\t<tr><th></th><th scope=col>&lt;chr&gt;</th><th scope=col>&lt;chr&gt;</th><th scope=col>&lt;chr&gt;</th><th scope=col>&lt;chr&gt;</th><th scope=col>&lt;dbl&gt;</th><th scope=col>&lt;dbl&gt;</th><th scope=col>&lt;chr&gt;</th><th scope=col>&lt;dbl&gt;</th><th scope=col>&lt;int&gt;</th><th scope=col>&lt;int&gt;</th><th scope=col>&lt;int&gt;</th><th scope=col>&lt;int&gt;</th><th scope=col>&lt;int&gt;</th><th scope=col>&lt;dbl&gt;</th><th scope=col>&lt;chr&gt;</th><th scope=col>&lt;dbl&gt;</th></tr>\n",
       "</thead>\n",
       "<tbody>\n",
       "\t<tr><th scope=row>1</th><td>a few days or more</td><td>0.2</td><td>f</td><td>Other Cities       </td><td>34.10933</td><td>-118.0731</td><td>Private room   </td><td>1.0</td><td>1</td><td>  49</td><td> 1</td><td>364</td><td>  1</td><td>3.00</td><td>f</td><td>2.000000</td></tr>\n",
       "\t<tr><th scope=row>2</th><td>within an hour    </td><td>1  </td><td>t</td><td>Other Cities       </td><td>34.01559</td><td>-118.4941</td><td>Entire home/apt</td><td>1.0</td><td>0</td><td> 231</td><td> 5</td><td>193</td><td> 44</td><td>4.93</td><td>t</td><td>2.000000</td></tr>\n",
       "\t<tr><th scope=row>3</th><td>within a few hours</td><td>1  </td><td>f</td><td>City of Los Angeles</td><td>33.99017</td><td>-118.4225</td><td>Entire home/apt</td><td>1.0</td><td>2</td><td> 110</td><td>30</td><td>117</td><td>368</td><td>4.61</td><td>f</td><td>1.400000</td></tr>\n",
       "\t<tr><th scope=row>4</th><td>within an hour    </td><td>1  </td><td>t</td><td>City of Los Angeles</td><td>33.98258</td><td>-118.4643</td><td>Entire home/apt</td><td>3.5</td><td>4</td><td>1179</td><td> 2</td><td>356</td><td> 35</td><td>4.97</td><td>f</td><td>1.500000</td></tr>\n",
       "\t<tr><th scope=row>5</th><td>within an hour    </td><td>1  </td><td>t</td><td>City of Los Angeles</td><td>34.08817</td><td>-118.3655</td><td>Entire home/apt</td><td>4.5</td><td>4</td><td>1244</td><td> 3</td><td>141</td><td> 10</td><td>5.00</td><td>f</td><td>2.000000</td></tr>\n",
       "\t<tr><th scope=row>6</th><td>within an hour    </td><td>1  </td><td>t</td><td>Other Cities       </td><td>34.09130</td><td>-118.3519</td><td>Entire home/apt</td><td>1.0</td><td>2</td><td> 213</td><td> 2</td><td>244</td><td> 23</td><td>4.74</td><td>t</td><td>1.666667</td></tr>\n",
       "</tbody>\n",
       "</table>\n"
      ],
      "text/latex": [
       "A data.frame: 6 × 16\n",
       "\\begin{tabular}{r|llllllllllllllll}\n",
       "  & host\\_response\\_time & host\\_response\\_rate & host\\_is\\_superhost & neighbourhood\\_group\\_cleansed & latitude & longitude & room\\_type & bathrooms & bedrooms & price & minimum\\_nights & availability\\_365 & number\\_of\\_reviews & review\\_scores\\_rating & instant\\_bookable & beds\\_per\\_accomodate\\\\\n",
       "  & <chr> & <chr> & <chr> & <chr> & <dbl> & <dbl> & <chr> & <dbl> & <int> & <int> & <int> & <int> & <int> & <dbl> & <chr> & <dbl>\\\\\n",
       "\\hline\n",
       "\t1 & a few days or more & 0.2 & f & Other Cities        & 34.10933 & -118.0731 & Private room    & 1.0 & 1 &   49 &  1 & 364 &   1 & 3.00 & f & 2.000000\\\\\n",
       "\t2 & within an hour     & 1   & t & Other Cities        & 34.01559 & -118.4941 & Entire home/apt & 1.0 & 0 &  231 &  5 & 193 &  44 & 4.93 & t & 2.000000\\\\\n",
       "\t3 & within a few hours & 1   & f & City of Los Angeles & 33.99017 & -118.4225 & Entire home/apt & 1.0 & 2 &  110 & 30 & 117 & 368 & 4.61 & f & 1.400000\\\\\n",
       "\t4 & within an hour     & 1   & t & City of Los Angeles & 33.98258 & -118.4643 & Entire home/apt & 3.5 & 4 & 1179 &  2 & 356 &  35 & 4.97 & f & 1.500000\\\\\n",
       "\t5 & within an hour     & 1   & t & City of Los Angeles & 34.08817 & -118.3655 & Entire home/apt & 4.5 & 4 & 1244 &  3 & 141 &  10 & 5.00 & f & 2.000000\\\\\n",
       "\t6 & within an hour     & 1   & t & Other Cities        & 34.09130 & -118.3519 & Entire home/apt & 1.0 & 2 &  213 &  2 & 244 &  23 & 4.74 & t & 1.666667\\\\\n",
       "\\end{tabular}\n"
      ],
      "text/markdown": [
       "\n",
       "A data.frame: 6 × 16\n",
       "\n",
       "| <!--/--> | host_response_time &lt;chr&gt; | host_response_rate &lt;chr&gt; | host_is_superhost &lt;chr&gt; | neighbourhood_group_cleansed &lt;chr&gt; | latitude &lt;dbl&gt; | longitude &lt;dbl&gt; | room_type &lt;chr&gt; | bathrooms &lt;dbl&gt; | bedrooms &lt;int&gt; | price &lt;int&gt; | minimum_nights &lt;int&gt; | availability_365 &lt;int&gt; | number_of_reviews &lt;int&gt; | review_scores_rating &lt;dbl&gt; | instant_bookable &lt;chr&gt; | beds_per_accomodate &lt;dbl&gt; |\n",
       "|---|---|---|---|---|---|---|---|---|---|---|---|---|---|---|---|---|\n",
       "| 1 | a few days or more | 0.2 | f | Other Cities        | 34.10933 | -118.0731 | Private room    | 1.0 | 1 |   49 |  1 | 364 |   1 | 3.00 | f | 2.000000 |\n",
       "| 2 | within an hour     | 1   | t | Other Cities        | 34.01559 | -118.4941 | Entire home/apt | 1.0 | 0 |  231 |  5 | 193 |  44 | 4.93 | t | 2.000000 |\n",
       "| 3 | within a few hours | 1   | f | City of Los Angeles | 33.99017 | -118.4225 | Entire home/apt | 1.0 | 2 |  110 | 30 | 117 | 368 | 4.61 | f | 1.400000 |\n",
       "| 4 | within an hour     | 1   | t | City of Los Angeles | 33.98258 | -118.4643 | Entire home/apt | 3.5 | 4 | 1179 |  2 | 356 |  35 | 4.97 | f | 1.500000 |\n",
       "| 5 | within an hour     | 1   | t | City of Los Angeles | 34.08817 | -118.3655 | Entire home/apt | 4.5 | 4 | 1244 |  3 | 141 |  10 | 5.00 | f | 2.000000 |\n",
       "| 6 | within an hour     | 1   | t | Other Cities        | 34.09130 | -118.3519 | Entire home/apt | 1.0 | 2 |  213 |  2 | 244 |  23 | 4.74 | t | 1.666667 |\n",
       "\n"
      ],
      "text/plain": [
       "  host_response_time host_response_rate host_is_superhost\n",
       "1 a few days or more 0.2                f                \n",
       "2 within an hour     1                  t                \n",
       "3 within a few hours 1                  f                \n",
       "4 within an hour     1                  t                \n",
       "5 within an hour     1                  t                \n",
       "6 within an hour     1                  t                \n",
       "  neighbourhood_group_cleansed latitude longitude room_type       bathrooms\n",
       "1 Other Cities                 34.10933 -118.0731 Private room    1.0      \n",
       "2 Other Cities                 34.01559 -118.4941 Entire home/apt 1.0      \n",
       "3 City of Los Angeles          33.99017 -118.4225 Entire home/apt 1.0      \n",
       "4 City of Los Angeles          33.98258 -118.4643 Entire home/apt 3.5      \n",
       "5 City of Los Angeles          34.08817 -118.3655 Entire home/apt 4.5      \n",
       "6 Other Cities                 34.09130 -118.3519 Entire home/apt 1.0      \n",
       "  bedrooms price minimum_nights availability_365 number_of_reviews\n",
       "1 1          49   1             364                1              \n",
       "2 0         231   5             193               44              \n",
       "3 2         110  30             117              368              \n",
       "4 4        1179   2             356               35              \n",
       "5 4        1244   3             141               10              \n",
       "6 2         213   2             244               23              \n",
       "  review_scores_rating instant_bookable beds_per_accomodate\n",
       "1 3.00                 f                2.000000           \n",
       "2 4.93                 t                2.000000           \n",
       "3 4.61                 f                1.400000           \n",
       "4 4.97                 f                1.500000           \n",
       "5 5.00                 f                2.000000           \n",
       "6 4.74                 t                1.666667           "
      ]
     },
     "metadata": {},
     "output_type": "display_data"
    }
   ],
   "source": [
    "data <- read.csv(\"listings.csv\", header = TRUE) %>%\n",
    "    select(-id, -name, -host_id, -host_name, -host_since, -neighbourhood_cleansed, -property_type, -license)\n",
    "data <- na.omit(data)\n",
    "data[\"beds_per_accomodate\"] = data$accommodates / data$beds\n",
    "data <- data %>%\n",
    "    select(-beds, -accommodates)\n",
    "data <- data %>%\n",
    "    filter(host_response_time != 'N/A')\n",
    "head(data)"
   ]
  },
  {
   "cell_type": "code",
   "execution_count": 54,
   "metadata": {
    "vscode": {
     "languageId": "r"
    }
   },
   "outputs": [
    {
     "data": {
      "text/html": [
       "<table class=\"dataframe\">\n",
       "<caption>A data.frame: 4 × 3</caption>\n",
       "<thead>\n",
       "\t<tr><th scope=col>host_response_time</th><th scope=col>n</th><th scope=col>prop</th></tr>\n",
       "\t<tr><th scope=col>&lt;chr&gt;</th><th scope=col>&lt;int&gt;</th><th scope=col>&lt;dbl&gt;</th></tr>\n",
       "</thead>\n",
       "<tbody>\n",
       "\t<tr><td>a few days or more</td><td>  457</td><td>0.01767960</td></tr>\n",
       "\t<tr><td>within a day      </td><td> 1181</td><td>0.04568842</td></tr>\n",
       "\t<tr><td>within a few hours</td><td> 3362</td><td>0.13006306</td></tr>\n",
       "\t<tr><td>within an hour    </td><td>20849</td><td>0.80656892</td></tr>\n",
       "</tbody>\n",
       "</table>\n"
      ],
      "text/latex": [
       "A data.frame: 4 × 3\n",
       "\\begin{tabular}{lll}\n",
       " host\\_response\\_time & n & prop\\\\\n",
       " <chr> & <int> & <dbl>\\\\\n",
       "\\hline\n",
       "\t a few days or more &   457 & 0.01767960\\\\\n",
       "\t within a day       &  1181 & 0.04568842\\\\\n",
       "\t within a few hours &  3362 & 0.13006306\\\\\n",
       "\t within an hour     & 20849 & 0.80656892\\\\\n",
       "\\end{tabular}\n"
      ],
      "text/markdown": [
       "\n",
       "A data.frame: 4 × 3\n",
       "\n",
       "| host_response_time &lt;chr&gt; | n &lt;int&gt; | prop &lt;dbl&gt; |\n",
       "|---|---|---|\n",
       "| a few days or more |   457 | 0.01767960 |\n",
       "| within a day       |  1181 | 0.04568842 |\n",
       "| within a few hours |  3362 | 0.13006306 |\n",
       "| within an hour     | 20849 | 0.80656892 |\n",
       "\n"
      ],
      "text/plain": [
       "  host_response_time n     prop      \n",
       "1 a few days or more   457 0.01767960\n",
       "2 within a day        1181 0.04568842\n",
       "3 within a few hours  3362 0.13006306\n",
       "4 within an hour     20849 0.80656892"
      ]
     },
     "metadata": {},
     "output_type": "display_data"
    }
   ],
   "source": [
    "\n",
    "data %>% count(host_response_time) %>% mutate(prop = n / nrow(data))"
   ]
  },
  {
   "cell_type": "code",
   "execution_count": 52,
   "metadata": {
    "vscode": {
     "languageId": "r"
    }
   },
   "outputs": [
    {
     "data": {
      "text/html": [
       "<table class=\"dataframe\">\n",
       "<caption>A data.frame: 4 × 3</caption>\n",
       "<thead>\n",
       "\t<tr><th scope=col>host_response_time</th><th scope=col>n</th><th scope=col>prop</th></tr>\n",
       "\t<tr><th scope=col>&lt;chr&gt;</th><th scope=col>&lt;int&gt;</th><th scope=col>&lt;dbl&gt;</th></tr>\n",
       "</thead>\n",
       "<tbody>\n",
       "\t<tr><td>a few days or more</td><td>  457</td><td>0.01767960</td></tr>\n",
       "\t<tr><td>within a day      </td><td> 1181</td><td>0.04568842</td></tr>\n",
       "\t<tr><td>within a few hours</td><td> 3362</td><td>0.13006306</td></tr>\n",
       "\t<tr><td>within an hour    </td><td>20849</td><td>0.80656892</td></tr>\n",
       "</tbody>\n",
       "</table>\n"
      ],
      "text/latex": [
       "A data.frame: 4 × 3\n",
       "\\begin{tabular}{lll}\n",
       " host\\_response\\_time & n & prop\\\\\n",
       " <chr> & <int> & <dbl>\\\\\n",
       "\\hline\n",
       "\t a few days or more &   457 & 0.01767960\\\\\n",
       "\t within a day       &  1181 & 0.04568842\\\\\n",
       "\t within a few hours &  3362 & 0.13006306\\\\\n",
       "\t within an hour     & 20849 & 0.80656892\\\\\n",
       "\\end{tabular}\n"
      ],
      "text/markdown": [
       "\n",
       "A data.frame: 4 × 3\n",
       "\n",
       "| host_response_time &lt;chr&gt; | n &lt;int&gt; | prop &lt;dbl&gt; |\n",
       "|---|---|---|\n",
       "| a few days or more |   457 | 0.01767960 |\n",
       "| within a day       |  1181 | 0.04568842 |\n",
       "| within a few hours |  3362 | 0.13006306 |\n",
       "| within an hour     | 20849 | 0.80656892 |\n",
       "\n"
      ],
      "text/plain": [
       "  host_response_time n     prop      \n",
       "1 a few days or more   457 0.01767960\n",
       "2 within a day        1181 0.04568842\n",
       "3 within a few hours  3362 0.13006306\n",
       "4 within an hour     20849 0.80656892"
      ]
     },
     "metadata": {},
     "output_type": "display_data"
    }
   ],
   "source": [
    "data <- data %>%\n",
    "    filter(host_response_time != 'N/A')\n",
    "data %>% count(host_response_time) %>% mutate(prop = n / nrow(data))"
   ]
  },
  {
   "cell_type": "code",
   "execution_count": 32,
   "metadata": {
    "vscode": {
     "languageId": "r"
    }
   },
   "outputs": [
    {
     "data": {
      "text/html": [
       "<style>\n",
       ".list-inline {list-style: none; margin:0; padding: 0}\n",
       ".list-inline>li {display: inline-block}\n",
       ".list-inline>li:not(:last-child)::after {content: \"\\00b7\"; padding: 0 .5ex}\n",
       "</style>\n",
       "<ol class=list-inline><li>'id'</li><li>'name'</li><li>'host_id'</li><li>'host_name'</li><li>'host_since'</li><li>'host_response_time'</li><li>'host_response_rate'</li><li>'host_is_superhost'</li><li>'neighbourhood_cleansed'</li><li>'neighbourhood_group_cleansed'</li><li>'latitude'</li><li>'longitude'</li><li>'property_type'</li><li>'room_type'</li><li>'accommodates'</li><li>'bathrooms'</li><li>'bedrooms'</li><li>'beds'</li><li>'price'</li><li>'minimum_nights'</li><li>'availability_365'</li><li>'number_of_reviews'</li><li>'review_scores_rating'</li><li>'license'</li><li>'instant_bookable'</li></ol>\n"
      ],
      "text/latex": [
       "\\begin{enumerate*}\n",
       "\\item 'id'\n",
       "\\item 'name'\n",
       "\\item 'host\\_id'\n",
       "\\item 'host\\_name'\n",
       "\\item 'host\\_since'\n",
       "\\item 'host\\_response\\_time'\n",
       "\\item 'host\\_response\\_rate'\n",
       "\\item 'host\\_is\\_superhost'\n",
       "\\item 'neighbourhood\\_cleansed'\n",
       "\\item 'neighbourhood\\_group\\_cleansed'\n",
       "\\item 'latitude'\n",
       "\\item 'longitude'\n",
       "\\item 'property\\_type'\n",
       "\\item 'room\\_type'\n",
       "\\item 'accommodates'\n",
       "\\item 'bathrooms'\n",
       "\\item 'bedrooms'\n",
       "\\item 'beds'\n",
       "\\item 'price'\n",
       "\\item 'minimum\\_nights'\n",
       "\\item 'availability\\_365'\n",
       "\\item 'number\\_of\\_reviews'\n",
       "\\item 'review\\_scores\\_rating'\n",
       "\\item 'license'\n",
       "\\item 'instant\\_bookable'\n",
       "\\end{enumerate*}\n"
      ],
      "text/markdown": [
       "1. 'id'\n",
       "2. 'name'\n",
       "3. 'host_id'\n",
       "4. 'host_name'\n",
       "5. 'host_since'\n",
       "6. 'host_response_time'\n",
       "7. 'host_response_rate'\n",
       "8. 'host_is_superhost'\n",
       "9. 'neighbourhood_cleansed'\n",
       "10. 'neighbourhood_group_cleansed'\n",
       "11. 'latitude'\n",
       "12. 'longitude'\n",
       "13. 'property_type'\n",
       "14. 'room_type'\n",
       "15. 'accommodates'\n",
       "16. 'bathrooms'\n",
       "17. 'bedrooms'\n",
       "18. 'beds'\n",
       "19. 'price'\n",
       "20. 'minimum_nights'\n",
       "21. 'availability_365'\n",
       "22. 'number_of_reviews'\n",
       "23. 'review_scores_rating'\n",
       "24. 'license'\n",
       "25. 'instant_bookable'\n",
       "\n",
       "\n"
      ],
      "text/plain": [
       " [1] \"id\"                           \"name\"                        \n",
       " [3] \"host_id\"                      \"host_name\"                   \n",
       " [5] \"host_since\"                   \"host_response_time\"          \n",
       " [7] \"host_response_rate\"           \"host_is_superhost\"           \n",
       " [9] \"neighbourhood_cleansed\"       \"neighbourhood_group_cleansed\"\n",
       "[11] \"latitude\"                     \"longitude\"                   \n",
       "[13] \"property_type\"                \"room_type\"                   \n",
       "[15] \"accommodates\"                 \"bathrooms\"                   \n",
       "[17] \"bedrooms\"                     \"beds\"                        \n",
       "[19] \"price\"                        \"minimum_nights\"              \n",
       "[21] \"availability_365\"             \"number_of_reviews\"           \n",
       "[23] \"review_scores_rating\"         \"license\"                     \n",
       "[25] \"instant_bookable\"            "
      ]
     },
     "metadata": {},
     "output_type": "display_data"
    }
   ],
   "source": [
    "colnames(airpnp)"
   ]
  },
  {
   "cell_type": "code",
   "execution_count": 33,
   "metadata": {
    "vscode": {
     "languageId": "r"
    }
   },
   "outputs": [],
   "source": [
    "airpnp <- airpnp %>%\n",
    "    select(-id, -name, -host_id, -host_name, -host_since, -neighbourhood_cleansed, -property_type, -license)"
   ]
  },
  {
   "cell_type": "code",
   "execution_count": 35,
   "metadata": {
    "vscode": {
     "languageId": "r"
    }
   },
   "outputs": [
    {
     "data": {
      "text/html": [
       "<style>\n",
       ".dl-inline {width: auto; margin:0; padding: 0}\n",
       ".dl-inline>dt, .dl-inline>dd {float: none; width: auto; display: inline-block}\n",
       ".dl-inline>dt::after {content: \":\\0020\"; padding-right: .5ex}\n",
       ".dl-inline>dt:not(:first-of-type) {padding-left: .5ex}\n",
       "</style><dl class=dl-inline><dt>host_response_time</dt><dd>0</dd><dt>host_response_rate</dt><dd>0</dd><dt>host_is_superhost</dt><dd>0</dd><dt>neighbourhood_group_cleansed</dt><dd>0</dd><dt>latitude</dt><dd>0</dd><dt>longitude</dt><dd>0</dd><dt>room_type</dt><dd>0</dd><dt>accommodates</dt><dd>0</dd><dt>bathrooms</dt><dd>8239</dd><dt>bedrooms</dt><dd>3039</dd><dt>beds</dt><dd>8334</dd><dt>price</dt><dd>8237</dd><dt>minimum_nights</dt><dd>0</dd><dt>availability_365</dt><dd>0</dd><dt>number_of_reviews</dt><dd>0</dd><dt>review_scores_rating</dt><dd>12146</dd><dt>instant_bookable</dt><dd>0</dd></dl>\n"
      ],
      "text/latex": [
       "\\begin{description*}\n",
       "\\item[host\\textbackslash{}\\_response\\textbackslash{}\\_time] 0\n",
       "\\item[host\\textbackslash{}\\_response\\textbackslash{}\\_rate] 0\n",
       "\\item[host\\textbackslash{}\\_is\\textbackslash{}\\_superhost] 0\n",
       "\\item[neighbourhood\\textbackslash{}\\_group\\textbackslash{}\\_cleansed] 0\n",
       "\\item[latitude] 0\n",
       "\\item[longitude] 0\n",
       "\\item[room\\textbackslash{}\\_type] 0\n",
       "\\item[accommodates] 0\n",
       "\\item[bathrooms] 8239\n",
       "\\item[bedrooms] 3039\n",
       "\\item[beds] 8334\n",
       "\\item[price] 8237\n",
       "\\item[minimum\\textbackslash{}\\_nights] 0\n",
       "\\item[availability\\textbackslash{}\\_365] 0\n",
       "\\item[number\\textbackslash{}\\_of\\textbackslash{}\\_reviews] 0\n",
       "\\item[review\\textbackslash{}\\_scores\\textbackslash{}\\_rating] 12146\n",
       "\\item[instant\\textbackslash{}\\_bookable] 0\n",
       "\\end{description*}\n"
      ],
      "text/markdown": [
       "host_response_time\n",
       ":   0host_response_rate\n",
       ":   0host_is_superhost\n",
       ":   0neighbourhood_group_cleansed\n",
       ":   0latitude\n",
       ":   0longitude\n",
       ":   0room_type\n",
       ":   0accommodates\n",
       ":   0bathrooms\n",
       ":   8239bedrooms\n",
       ":   3039beds\n",
       ":   8334price\n",
       ":   8237minimum_nights\n",
       ":   0availability_365\n",
       ":   0number_of_reviews\n",
       ":   0review_scores_rating\n",
       ":   12146instant_bookable\n",
       ":   0\n",
       "\n"
      ],
      "text/plain": [
       "          host_response_time           host_response_rate \n",
       "                           0                            0 \n",
       "           host_is_superhost neighbourhood_group_cleansed \n",
       "                           0                            0 \n",
       "                    latitude                    longitude \n",
       "                           0                            0 \n",
       "                   room_type                 accommodates \n",
       "                           0                            0 \n",
       "                   bathrooms                     bedrooms \n",
       "                        8239                         3039 \n",
       "                        beds                        price \n",
       "                        8334                         8237 \n",
       "              minimum_nights             availability_365 \n",
       "                           0                            0 \n",
       "           number_of_reviews         review_scores_rating \n",
       "                           0                        12146 \n",
       "            instant_bookable \n",
       "                           0 "
      ]
     },
     "metadata": {},
     "output_type": "display_data"
    }
   ],
   "source": [
    "colSums(is.na(airpnp))"
   ]
  },
  {
   "cell_type": "code",
   "execution_count": 36,
   "metadata": {
    "vscode": {
     "languageId": "r"
    }
   },
   "outputs": [
    {
     "data": {
      "text/html": [
       "<style>\n",
       ".list-inline {list-style: none; margin:0; padding: 0}\n",
       ".list-inline>li {display: inline-block}\n",
       ".list-inline>li:not(:last-child)::after {content: \"\\00b7\"; padding: 0 .5ex}\n",
       "</style>\n",
       "<ol class=list-inline><li>28045</li><li>17</li></ol>\n"
      ],
      "text/latex": [
       "\\begin{enumerate*}\n",
       "\\item 28045\n",
       "\\item 17\n",
       "\\end{enumerate*}\n"
      ],
      "text/markdown": [
       "1. 28045\n",
       "2. 17\n",
       "\n",
       "\n"
      ],
      "text/plain": [
       "[1] 28045    17"
      ]
     },
     "metadata": {},
     "output_type": "display_data"
    }
   ],
   "source": [
    "airpnp <- na.omit(airpnp)\n",
    "dim(airpnp)"
   ]
  },
  {
   "cell_type": "code",
   "execution_count": 37,
   "metadata": {
    "vscode": {
     "languageId": "r"
    }
   },
   "outputs": [
    {
     "name": "stdout",
     "output_type": "stream",
     "text": [
      "'data.frame':\t28045 obs. of  17 variables:\n",
      " $ host_response_time          : chr  \"a few days or more\" \"within an hour\" \"within a few hours\" \"within an hour\" ...\n",
      " $ host_response_rate          : chr  \"0.2\" \"1\" \"1\" \"1\" ...\n",
      " $ host_is_superhost           : chr  \"f\" \"t\" \"f\" \"t\" ...\n",
      " $ neighbourhood_group_cleansed: chr  \"Other Cities\" \"Other Cities\" \"City of Los Angeles\" \"City of Los Angeles\" ...\n",
      " $ latitude                    : num  34.1 34 34 34 34.1 ...\n",
      " $ longitude                   : num  -118 -118 -118 -118 -118 ...\n",
      " $ room_type                   : chr  \"Private room\" \"Entire home/apt\" \"Entire home/apt\" \"Entire home/apt\" ...\n",
      " $ accommodates                : int  2 2 7 6 8 5 4 3 2 6 ...\n",
      " $ bathrooms                   : num  1 1 1 3.5 4.5 1 1 1 1 2 ...\n",
      " $ bedrooms                    : int  1 0 2 4 4 2 2 1 1 2 ...\n",
      " $ beds                        : int  1 1 5 4 4 3 3 1 1 3 ...\n",
      " $ price                       : int  49 231 110 1179 1244 213 95 298 110 282 ...\n",
      " $ minimum_nights              : int  1 5 30 2 3 2 30 3 4 2 ...\n",
      " $ availability_365            : int  364 193 117 356 141 244 38 244 356 313 ...\n",
      " $ number_of_reviews           : int  1 44 368 35 10 23 2 59 285 49 ...\n",
      " $ review_scores_rating        : num  3 4.93 4.61 4.97 5 4.74 4.5 4.95 4.64 4.61 ...\n",
      " $ instant_bookable            : chr  \"f\" \"t\" \"f\" \"f\" ...\n",
      " - attr(*, \"na.action\")= 'omit' Named int [1:17488] 1 2 3 6 10 11 15 17 20 21 ...\n",
      "  ..- attr(*, \"names\")= chr [1:17488] \"1\" \"2\" \"3\" \"6\" ...\n"
     ]
    }
   ],
   "source": [
    "str(airpnp)"
   ]
  },
  {
   "cell_type": "code",
   "execution_count": 38,
   "metadata": {
    "vscode": {
     "languageId": "r"
    }
   },
   "outputs": [],
   "source": [
    "airpnp[\"beds_per_accomodate\"] = airpnp$accommodates / airpnp$beds"
   ]
  },
  {
   "cell_type": "code",
   "execution_count": 39,
   "metadata": {
    "vscode": {
     "languageId": "r"
    }
   },
   "outputs": [
    {
     "data": {
      "text/html": [
       "<style>\n",
       ".list-inline {list-style: none; margin:0; padding: 0}\n",
       ".list-inline>li {display: inline-block}\n",
       ".list-inline>li:not(:last-child)::after {content: \"\\00b7\"; padding: 0 .5ex}\n",
       "</style>\n",
       "<ol class=list-inline><li>'host_response_time'</li><li>'host_response_rate'</li><li>'host_is_superhost'</li><li>'neighbourhood_group_cleansed'</li><li>'latitude'</li><li>'longitude'</li><li>'room_type'</li><li>'accommodates'</li><li>'bathrooms'</li><li>'bedrooms'</li><li>'beds'</li><li>'price'</li><li>'minimum_nights'</li><li>'availability_365'</li><li>'number_of_reviews'</li><li>'review_scores_rating'</li><li>'instant_bookable'</li><li>'beds_per_accomodate'</li></ol>\n"
      ],
      "text/latex": [
       "\\begin{enumerate*}\n",
       "\\item 'host\\_response\\_time'\n",
       "\\item 'host\\_response\\_rate'\n",
       "\\item 'host\\_is\\_superhost'\n",
       "\\item 'neighbourhood\\_group\\_cleansed'\n",
       "\\item 'latitude'\n",
       "\\item 'longitude'\n",
       "\\item 'room\\_type'\n",
       "\\item 'accommodates'\n",
       "\\item 'bathrooms'\n",
       "\\item 'bedrooms'\n",
       "\\item 'beds'\n",
       "\\item 'price'\n",
       "\\item 'minimum\\_nights'\n",
       "\\item 'availability\\_365'\n",
       "\\item 'number\\_of\\_reviews'\n",
       "\\item 'review\\_scores\\_rating'\n",
       "\\item 'instant\\_bookable'\n",
       "\\item 'beds\\_per\\_accomodate'\n",
       "\\end{enumerate*}\n"
      ],
      "text/markdown": [
       "1. 'host_response_time'\n",
       "2. 'host_response_rate'\n",
       "3. 'host_is_superhost'\n",
       "4. 'neighbourhood_group_cleansed'\n",
       "5. 'latitude'\n",
       "6. 'longitude'\n",
       "7. 'room_type'\n",
       "8. 'accommodates'\n",
       "9. 'bathrooms'\n",
       "10. 'bedrooms'\n",
       "11. 'beds'\n",
       "12. 'price'\n",
       "13. 'minimum_nights'\n",
       "14. 'availability_365'\n",
       "15. 'number_of_reviews'\n",
       "16. 'review_scores_rating'\n",
       "17. 'instant_bookable'\n",
       "18. 'beds_per_accomodate'\n",
       "\n",
       "\n"
      ],
      "text/plain": [
       " [1] \"host_response_time\"           \"host_response_rate\"          \n",
       " [3] \"host_is_superhost\"            \"neighbourhood_group_cleansed\"\n",
       " [5] \"latitude\"                     \"longitude\"                   \n",
       " [7] \"room_type\"                    \"accommodates\"                \n",
       " [9] \"bathrooms\"                    \"bedrooms\"                    \n",
       "[11] \"beds\"                         \"price\"                       \n",
       "[13] \"minimum_nights\"               \"availability_365\"            \n",
       "[15] \"number_of_reviews\"            \"review_scores_rating\"        \n",
       "[17] \"instant_bookable\"             \"beds_per_accomodate\"         "
      ]
     },
     "metadata": {},
     "output_type": "display_data"
    }
   ],
   "source": [
    "colnames(airpnp)"
   ]
  },
  {
   "cell_type": "code",
   "execution_count": 40,
   "metadata": {
    "vscode": {
     "languageId": "r"
    }
   },
   "outputs": [],
   "source": [
    "airpnp <- airpnp %>%\n",
    "    select(-beds, -accommodates)"
   ]
  },
  {
   "cell_type": "code",
   "execution_count": 41,
   "metadata": {
    "vscode": {
     "languageId": "r"
    }
   },
   "outputs": [
    {
     "data": {
      "text/html": [
       "<style>\n",
       ".list-inline {list-style: none; margin:0; padding: 0}\n",
       ".list-inline>li {display: inline-block}\n",
       ".list-inline>li:not(:last-child)::after {content: \"\\00b7\"; padding: 0 .5ex}\n",
       "</style>\n",
       "<ol class=list-inline><li>'host_response_time'</li><li>'host_response_rate'</li><li>'host_is_superhost'</li><li>'neighbourhood_group_cleansed'</li><li>'latitude'</li><li>'longitude'</li><li>'room_type'</li><li>'bathrooms'</li><li>'bedrooms'</li><li>'price'</li><li>'minimum_nights'</li><li>'availability_365'</li><li>'number_of_reviews'</li><li>'review_scores_rating'</li><li>'instant_bookable'</li><li>'beds_per_accomodate'</li></ol>\n"
      ],
      "text/latex": [
       "\\begin{enumerate*}\n",
       "\\item 'host\\_response\\_time'\n",
       "\\item 'host\\_response\\_rate'\n",
       "\\item 'host\\_is\\_superhost'\n",
       "\\item 'neighbourhood\\_group\\_cleansed'\n",
       "\\item 'latitude'\n",
       "\\item 'longitude'\n",
       "\\item 'room\\_type'\n",
       "\\item 'bathrooms'\n",
       "\\item 'bedrooms'\n",
       "\\item 'price'\n",
       "\\item 'minimum\\_nights'\n",
       "\\item 'availability\\_365'\n",
       "\\item 'number\\_of\\_reviews'\n",
       "\\item 'review\\_scores\\_rating'\n",
       "\\item 'instant\\_bookable'\n",
       "\\item 'beds\\_per\\_accomodate'\n",
       "\\end{enumerate*}\n"
      ],
      "text/markdown": [
       "1. 'host_response_time'\n",
       "2. 'host_response_rate'\n",
       "3. 'host_is_superhost'\n",
       "4. 'neighbourhood_group_cleansed'\n",
       "5. 'latitude'\n",
       "6. 'longitude'\n",
       "7. 'room_type'\n",
       "8. 'bathrooms'\n",
       "9. 'bedrooms'\n",
       "10. 'price'\n",
       "11. 'minimum_nights'\n",
       "12. 'availability_365'\n",
       "13. 'number_of_reviews'\n",
       "14. 'review_scores_rating'\n",
       "15. 'instant_bookable'\n",
       "16. 'beds_per_accomodate'\n",
       "\n",
       "\n"
      ],
      "text/plain": [
       " [1] \"host_response_time\"           \"host_response_rate\"          \n",
       " [3] \"host_is_superhost\"            \"neighbourhood_group_cleansed\"\n",
       " [5] \"latitude\"                     \"longitude\"                   \n",
       " [7] \"room_type\"                    \"bathrooms\"                   \n",
       " [9] \"bedrooms\"                     \"price\"                       \n",
       "[11] \"minimum_nights\"               \"availability_365\"            \n",
       "[13] \"number_of_reviews\"            \"review_scores_rating\"        \n",
       "[15] \"instant_bookable\"             \"beds_per_accomodate\"         "
      ]
     },
     "metadata": {},
     "output_type": "display_data"
    }
   ],
   "source": [
    "colnames(airpnp)"
   ]
  },
  {
   "cell_type": "code",
   "execution_count": null,
   "metadata": {
    "vscode": {
     "languageId": "r"
    }
   },
   "outputs": [],
   "source": []
  }
 ],
 "metadata": {
  "kernelspec": {
   "display_name": "R",
   "language": "R",
   "name": "ir"
  },
  "language_info": {
   "codemirror_mode": "r",
   "file_extension": ".r",
   "mimetype": "text/x-r-source",
   "name": "R",
   "pygments_lexer": "r",
   "version": "4.3.2"
  }
 },
 "nbformat": 4,
 "nbformat_minor": 2
}
